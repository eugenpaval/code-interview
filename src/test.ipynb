{
 "metadata": {
  "language_info": {
   "codemirror_mode": {
    "name": "ipython",
    "version": 3
   },
   "file_extension": ".py",
   "mimetype": "text/x-python",
   "name": "python",
   "nbconvert_exporter": "python",
   "pygments_lexer": "ipython3",
   "version": 3
  },
  "orig_nbformat": 2,
  "kernelspec": {
   "name": "python_defaultSpec_1595965801863",
   "display_name": "Python 3.8.3 64-bit"
  }
 },
 "nbformat": 4,
 "nbformat_minor": 2,
 "cells": [
  {
   "cell_type": "code",
   "execution_count": 21,
   "metadata": {
    "tags": []
   },
   "outputs": [
    {
     "output_type": "stream",
     "name": "stdout",
     "text": "[1]\n[[1, 2], [1, 3]]\n[[1, 3], [1, 2]]\n"
    }
   ],
   "source": [
    "a = [1,3]\n",
    "b = [1,2]\n",
    "c = [k for k in b if k in a]\n",
    "d = sorted([a] + [b])\n",
    "print(c)\n",
    "print(d)\n",
    "e = [x for x in [a] + [b] if len(x) < 3]\n",
    "print(e)\n"
   ]
  },
  {
   "cell_type": "code",
   "execution_count": 25,
   "metadata": {
    "tags": []
   },
   "outputs": [
    {
     "output_type": "stream",
     "name": "stdout",
     "text": "[('A', 'B'), ('A', 'C'), ('B', 'B'), ('B', 'C'), ('A', 'A', 'B')]\n"
    }
   ],
   "source": [
    "t = [('A', 'C'), ('A', 'B'), ('B', 'B'), ('B', 'C'), ('A', 'A', 'B')]\n",
    "print(sorted(sorted(t), key = lambda x: len(x)))"
   ]
  },
  {
   "cell_type": "code",
   "execution_count": null,
   "metadata": {},
   "outputs": [],
   "source": []
  }
 ]
}